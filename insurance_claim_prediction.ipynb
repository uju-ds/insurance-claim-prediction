{
 "cells": [
  {
   "cell_type": "markdown",
   "metadata": {},
   "source": [
    "# Importing of Datasets and data cleaning"
   ]
  },
  {
   "cell_type": "code",
   "execution_count": 1,
   "metadata": {},
   "outputs": [],
   "source": [
    "import numpy as np\n",
    "import pandas as pd\n",
    "import matplotlib.pyplot as plt\n",
    "%matplotlib inline"
   ]
  },
  {
   "cell_type": "code",
   "execution_count": 2,
   "metadata": {},
   "outputs": [
    {
     "data": {
      "text/html": [
       "<div>\n",
       "<style scoped>\n",
       "    .dataframe tbody tr th:only-of-type {\n",
       "        vertical-align: middle;\n",
       "    }\n",
       "\n",
       "    .dataframe tbody tr th {\n",
       "        vertical-align: top;\n",
       "    }\n",
       "\n",
       "    .dataframe thead th {\n",
       "        text-align: right;\n",
       "    }\n",
       "</style>\n",
       "<table border=\"1\" class=\"dataframe\">\n",
       "  <thead>\n",
       "    <tr style=\"text-align: right;\">\n",
       "      <th></th>\n",
       "      <th>Customer Id</th>\n",
       "      <th>YearOfObservation</th>\n",
       "      <th>Insured_Period</th>\n",
       "      <th>Residential</th>\n",
       "      <th>Building_Painted</th>\n",
       "      <th>Building_Fenced</th>\n",
       "      <th>Garden</th>\n",
       "      <th>Settlement</th>\n",
       "      <th>Building Dimension</th>\n",
       "      <th>Building_Type</th>\n",
       "      <th>Date_of_Occupancy</th>\n",
       "      <th>NumberOfWindows</th>\n",
       "      <th>Geo_Code</th>\n",
       "      <th>Claim</th>\n",
       "    </tr>\n",
       "  </thead>\n",
       "  <tbody>\n",
       "    <tr>\n",
       "      <td>0</td>\n",
       "      <td>H14663</td>\n",
       "      <td>2013</td>\n",
       "      <td>1.0</td>\n",
       "      <td>0</td>\n",
       "      <td>N</td>\n",
       "      <td>V</td>\n",
       "      <td>V</td>\n",
       "      <td>U</td>\n",
       "      <td>290.0</td>\n",
       "      <td>1</td>\n",
       "      <td>1960.0</td>\n",
       "      <td>.</td>\n",
       "      <td>1053</td>\n",
       "      <td>0</td>\n",
       "    </tr>\n",
       "    <tr>\n",
       "      <td>1</td>\n",
       "      <td>H2037</td>\n",
       "      <td>2015</td>\n",
       "      <td>1.0</td>\n",
       "      <td>0</td>\n",
       "      <td>V</td>\n",
       "      <td>N</td>\n",
       "      <td>O</td>\n",
       "      <td>R</td>\n",
       "      <td>490.0</td>\n",
       "      <td>1</td>\n",
       "      <td>1850.0</td>\n",
       "      <td>4</td>\n",
       "      <td>1053</td>\n",
       "      <td>0</td>\n",
       "    </tr>\n",
       "    <tr>\n",
       "      <td>2</td>\n",
       "      <td>H3802</td>\n",
       "      <td>2014</td>\n",
       "      <td>1.0</td>\n",
       "      <td>0</td>\n",
       "      <td>N</td>\n",
       "      <td>V</td>\n",
       "      <td>V</td>\n",
       "      <td>U</td>\n",
       "      <td>595.0</td>\n",
       "      <td>1</td>\n",
       "      <td>1960.0</td>\n",
       "      <td>.</td>\n",
       "      <td>1053</td>\n",
       "      <td>0</td>\n",
       "    </tr>\n",
       "    <tr>\n",
       "      <td>3</td>\n",
       "      <td>H3834</td>\n",
       "      <td>2013</td>\n",
       "      <td>1.0</td>\n",
       "      <td>0</td>\n",
       "      <td>V</td>\n",
       "      <td>V</td>\n",
       "      <td>V</td>\n",
       "      <td>U</td>\n",
       "      <td>2840.0</td>\n",
       "      <td>1</td>\n",
       "      <td>1960.0</td>\n",
       "      <td>.</td>\n",
       "      <td>1053</td>\n",
       "      <td>0</td>\n",
       "    </tr>\n",
       "    <tr>\n",
       "      <td>4</td>\n",
       "      <td>H5053</td>\n",
       "      <td>2014</td>\n",
       "      <td>1.0</td>\n",
       "      <td>0</td>\n",
       "      <td>V</td>\n",
       "      <td>N</td>\n",
       "      <td>O</td>\n",
       "      <td>R</td>\n",
       "      <td>680.0</td>\n",
       "      <td>1</td>\n",
       "      <td>1800.0</td>\n",
       "      <td>3</td>\n",
       "      <td>1053</td>\n",
       "      <td>0</td>\n",
       "    </tr>\n",
       "  </tbody>\n",
       "</table>\n",
       "</div>"
      ],
      "text/plain": [
       "  Customer Id  YearOfObservation  Insured_Period  Residential  \\\n",
       "0      H14663               2013             1.0            0   \n",
       "1       H2037               2015             1.0            0   \n",
       "2       H3802               2014             1.0            0   \n",
       "3       H3834               2013             1.0            0   \n",
       "4       H5053               2014             1.0            0   \n",
       "\n",
       "  Building_Painted Building_Fenced Garden Settlement  Building Dimension  \\\n",
       "0                N               V      V          U               290.0   \n",
       "1                V               N      O          R               490.0   \n",
       "2                N               V      V          U               595.0   \n",
       "3                V               V      V          U              2840.0   \n",
       "4                V               N      O          R               680.0   \n",
       "\n",
       "   Building_Type  Date_of_Occupancy NumberOfWindows Geo_Code  Claim  \n",
       "0              1             1960.0               .     1053      0  \n",
       "1              1             1850.0               4     1053      0  \n",
       "2              1             1960.0               .     1053      0  \n",
       "3              1             1960.0               .     1053      0  \n",
       "4              1             1800.0               3     1053      0  "
      ]
     },
     "execution_count": 2,
     "metadata": {},
     "output_type": "execute_result"
    }
   ],
   "source": [
    "train=pd.read_csv(r'C:\\Users\\User\\Downloads\\train_data.csv')\n",
    "train.head()"
   ]
  },
  {
   "cell_type": "code",
   "execution_count": 3,
   "metadata": {},
   "outputs": [
    {
     "data": {
      "text/html": [
       "<div>\n",
       "<style scoped>\n",
       "    .dataframe tbody tr th:only-of-type {\n",
       "        vertical-align: middle;\n",
       "    }\n",
       "\n",
       "    .dataframe tbody tr th {\n",
       "        vertical-align: top;\n",
       "    }\n",
       "\n",
       "    .dataframe thead th {\n",
       "        text-align: right;\n",
       "    }\n",
       "</style>\n",
       "<table border=\"1\" class=\"dataframe\">\n",
       "  <thead>\n",
       "    <tr style=\"text-align: right;\">\n",
       "      <th></th>\n",
       "      <th>Customer Id</th>\n",
       "      <th>YearOfObservation</th>\n",
       "      <th>Insured_Period</th>\n",
       "      <th>Residential</th>\n",
       "      <th>Building_Painted</th>\n",
       "      <th>Building_Fenced</th>\n",
       "      <th>Garden</th>\n",
       "      <th>Settlement</th>\n",
       "      <th>Building Dimension</th>\n",
       "      <th>Building_Type</th>\n",
       "      <th>Date_of_Occupancy</th>\n",
       "      <th>NumberOfWindows</th>\n",
       "      <th>Geo_Code</th>\n",
       "    </tr>\n",
       "  </thead>\n",
       "  <tbody>\n",
       "    <tr>\n",
       "      <td>0</td>\n",
       "      <td>H11920</td>\n",
       "      <td>2013</td>\n",
       "      <td>1.000000</td>\n",
       "      <td>0</td>\n",
       "      <td>V</td>\n",
       "      <td>N</td>\n",
       "      <td>O</td>\n",
       "      <td>R</td>\n",
       "      <td>300.0</td>\n",
       "      <td>1</td>\n",
       "      <td>1960.0</td>\n",
       "      <td>3</td>\n",
       "      <td>3310</td>\n",
       "    </tr>\n",
       "    <tr>\n",
       "      <td>1</td>\n",
       "      <td>H11921</td>\n",
       "      <td>2016</td>\n",
       "      <td>0.997268</td>\n",
       "      <td>0</td>\n",
       "      <td>V</td>\n",
       "      <td>N</td>\n",
       "      <td>O</td>\n",
       "      <td>R</td>\n",
       "      <td>300.0</td>\n",
       "      <td>1</td>\n",
       "      <td>1960.0</td>\n",
       "      <td>3</td>\n",
       "      <td>3310</td>\n",
       "    </tr>\n",
       "    <tr>\n",
       "      <td>2</td>\n",
       "      <td>H9805</td>\n",
       "      <td>2013</td>\n",
       "      <td>0.369863</td>\n",
       "      <td>0</td>\n",
       "      <td>V</td>\n",
       "      <td>V</td>\n",
       "      <td>V</td>\n",
       "      <td>U</td>\n",
       "      <td>790.0</td>\n",
       "      <td>1</td>\n",
       "      <td>1960.0</td>\n",
       "      <td>.</td>\n",
       "      <td>3310</td>\n",
       "    </tr>\n",
       "    <tr>\n",
       "      <td>3</td>\n",
       "      <td>H7493</td>\n",
       "      <td>2014</td>\n",
       "      <td>1.000000</td>\n",
       "      <td>0</td>\n",
       "      <td>V</td>\n",
       "      <td>N</td>\n",
       "      <td>O</td>\n",
       "      <td>R</td>\n",
       "      <td>1405.0</td>\n",
       "      <td>1</td>\n",
       "      <td>2004.0</td>\n",
       "      <td>3</td>\n",
       "      <td>3321</td>\n",
       "    </tr>\n",
       "    <tr>\n",
       "      <td>4</td>\n",
       "      <td>H7494</td>\n",
       "      <td>2016</td>\n",
       "      <td>1.000000</td>\n",
       "      <td>0</td>\n",
       "      <td>V</td>\n",
       "      <td>N</td>\n",
       "      <td>O</td>\n",
       "      <td>R</td>\n",
       "      <td>1405.0</td>\n",
       "      <td>1</td>\n",
       "      <td>2004.0</td>\n",
       "      <td>3</td>\n",
       "      <td>3321</td>\n",
       "    </tr>\n",
       "  </tbody>\n",
       "</table>\n",
       "</div>"
      ],
      "text/plain": [
       "  Customer Id  YearOfObservation  Insured_Period  Residential  \\\n",
       "0      H11920               2013        1.000000            0   \n",
       "1      H11921               2016        0.997268            0   \n",
       "2       H9805               2013        0.369863            0   \n",
       "3       H7493               2014        1.000000            0   \n",
       "4       H7494               2016        1.000000            0   \n",
       "\n",
       "  Building_Painted Building_Fenced Garden Settlement  Building Dimension  \\\n",
       "0                V               N      O          R               300.0   \n",
       "1                V               N      O          R               300.0   \n",
       "2                V               V      V          U               790.0   \n",
       "3                V               N      O          R              1405.0   \n",
       "4                V               N      O          R              1405.0   \n",
       "\n",
       "   Building_Type  Date_of_Occupancy NumberOfWindows Geo_Code  \n",
       "0              1             1960.0               3     3310  \n",
       "1              1             1960.0               3     3310  \n",
       "2              1             1960.0               .     3310  \n",
       "3              1             2004.0               3     3321  \n",
       "4              1             2004.0               3     3321  "
      ]
     },
     "execution_count": 3,
     "metadata": {},
     "output_type": "execute_result"
    }
   ],
   "source": [
    "test=pd.read_csv(r'C:\\Users\\User\\Downloads\\test_data.csv')\n",
    "test.head()"
   ]
  },
  {
   "cell_type": "code",
   "execution_count": 4,
   "metadata": {},
   "outputs": [
    {
     "data": {
      "text/plain": [
       "Customer Id            object\n",
       "YearOfObservation       int64\n",
       "Insured_Period        float64\n",
       "Residential             int64\n",
       "Building_Painted       object\n",
       "Building_Fenced        object\n",
       "Garden                 object\n",
       "Settlement             object\n",
       "Building Dimension    float64\n",
       "Building_Type           int64\n",
       "Date_of_Occupancy     float64\n",
       "NumberOfWindows        object\n",
       "Geo_Code               object\n",
       "Claim                   int64\n",
       "dtype: object"
      ]
     },
     "execution_count": 4,
     "metadata": {},
     "output_type": "execute_result"
    }
   ],
   "source": [
    "train.dtypes"
   ]
  },
  {
   "cell_type": "code",
   "execution_count": 5,
   "metadata": {},
   "outputs": [
    {
     "data": {
      "text/plain": [
       "Customer Id             0\n",
       "YearOfObservation       0\n",
       "Insured_Period          0\n",
       "Residential             0\n",
       "Building_Painted        0\n",
       "Building_Fenced         0\n",
       "Garden                  7\n",
       "Settlement              0\n",
       "Building Dimension    106\n",
       "Building_Type           0\n",
       "Date_of_Occupancy     508\n",
       "NumberOfWindows         0\n",
       "Geo_Code              102\n",
       "Claim                   0\n",
       "dtype: int64"
      ]
     },
     "execution_count": 5,
     "metadata": {},
     "output_type": "execute_result"
    }
   ],
   "source": [
    "train.isnull().sum()"
   ]
  },
  {
   "cell_type": "code",
   "execution_count": 6,
   "metadata": {},
   "outputs": [
    {
     "data": {
      "text/plain": [
       "Customer Id             0\n",
       "YearOfObservation       0\n",
       "Insured_Period          0\n",
       "Residential             0\n",
       "Building_Painted        0\n",
       "Building_Fenced         0\n",
       "Garden                  4\n",
       "Settlement              0\n",
       "Building Dimension     13\n",
       "Building_Type           0\n",
       "Date_of_Occupancy     728\n",
       "NumberOfWindows         0\n",
       "Geo_Code               13\n",
       "dtype: int64"
      ]
     },
     "execution_count": 6,
     "metadata": {},
     "output_type": "execute_result"
    }
   ],
   "source": [
    "test.isnull().sum()"
   ]
  },
  {
   "cell_type": "code",
   "execution_count": 7,
   "metadata": {},
   "outputs": [
    {
     "data": {
      "text/plain": [
       "(7160, 14)"
      ]
     },
     "execution_count": 7,
     "metadata": {},
     "output_type": "execute_result"
    }
   ],
   "source": [
    "train.shape#To view the sizes of the rows and columns"
   ]
  },
  {
   "cell_type": "code",
   "execution_count": 8,
   "metadata": {},
   "outputs": [
    {
     "data": {
      "text/plain": [
       "Customer Id           0\n",
       "YearOfObservation     0\n",
       "Insured_Period        0\n",
       "Residential           0\n",
       "Building_Painted      0\n",
       "Building_Fenced       0\n",
       "Garden                0\n",
       "Settlement            0\n",
       "Building Dimension    0\n",
       "Building_Type         0\n",
       "Date_of_Occupancy     0\n",
       "NumberOfWindows       0\n",
       "Geo_Code              0\n",
       "Claim                 0\n",
       "dtype: int64"
      ]
     },
     "execution_count": 8,
     "metadata": {},
     "output_type": "execute_result"
    }
   ],
   "source": [
    "train.dropna(inplace=True)#Drop the Non available values\n",
    "train.isna().sum()"
   ]
  },
  {
   "cell_type": "code",
   "execution_count": 9,
   "metadata": {},
   "outputs": [
    {
     "data": {
      "text/plain": [
       "(6543, 14)"
      ]
     },
     "execution_count": 9,
     "metadata": {},
     "output_type": "execute_result"
    }
   ],
   "source": [
    "train.shape"
   ]
  },
  {
   "cell_type": "code",
   "execution_count": 10,
   "metadata": {},
   "outputs": [
    {
     "data": {
      "text/html": [
       "<div>\n",
       "<style scoped>\n",
       "    .dataframe tbody tr th:only-of-type {\n",
       "        vertical-align: middle;\n",
       "    }\n",
       "\n",
       "    .dataframe tbody tr th {\n",
       "        vertical-align: top;\n",
       "    }\n",
       "\n",
       "    .dataframe thead th {\n",
       "        text-align: right;\n",
       "    }\n",
       "</style>\n",
       "<table border=\"1\" class=\"dataframe\">\n",
       "  <thead>\n",
       "    <tr style=\"text-align: right;\">\n",
       "      <th></th>\n",
       "      <th>Customer Id</th>\n",
       "      <th>YearOfObservation</th>\n",
       "      <th>Insured_Period</th>\n",
       "      <th>Residential</th>\n",
       "      <th>Building_Painted</th>\n",
       "      <th>Building_Fenced</th>\n",
       "      <th>Garden</th>\n",
       "      <th>Settlement</th>\n",
       "      <th>Building Dimension</th>\n",
       "      <th>Building_Type</th>\n",
       "      <th>Date_of_Occupancy</th>\n",
       "      <th>NumberOfWindows</th>\n",
       "      <th>Geo_Code</th>\n",
       "      <th>Claim</th>\n",
       "    </tr>\n",
       "  </thead>\n",
       "  <tbody>\n",
       "    <tr>\n",
       "      <td>0</td>\n",
       "      <td>H14663</td>\n",
       "      <td>2013</td>\n",
       "      <td>1.0</td>\n",
       "      <td>0</td>\n",
       "      <td>0</td>\n",
       "      <td>1</td>\n",
       "      <td>1</td>\n",
       "      <td>1</td>\n",
       "      <td>290.0</td>\n",
       "      <td>1</td>\n",
       "      <td>1960.0</td>\n",
       "      <td>.</td>\n",
       "      <td>1053</td>\n",
       "      <td>0</td>\n",
       "    </tr>\n",
       "    <tr>\n",
       "      <td>1</td>\n",
       "      <td>H2037</td>\n",
       "      <td>2015</td>\n",
       "      <td>1.0</td>\n",
       "      <td>0</td>\n",
       "      <td>1</td>\n",
       "      <td>0</td>\n",
       "      <td>0</td>\n",
       "      <td>0</td>\n",
       "      <td>490.0</td>\n",
       "      <td>1</td>\n",
       "      <td>1850.0</td>\n",
       "      <td>4</td>\n",
       "      <td>1053</td>\n",
       "      <td>0</td>\n",
       "    </tr>\n",
       "    <tr>\n",
       "      <td>2</td>\n",
       "      <td>H3802</td>\n",
       "      <td>2014</td>\n",
       "      <td>1.0</td>\n",
       "      <td>0</td>\n",
       "      <td>0</td>\n",
       "      <td>1</td>\n",
       "      <td>1</td>\n",
       "      <td>1</td>\n",
       "      <td>595.0</td>\n",
       "      <td>1</td>\n",
       "      <td>1960.0</td>\n",
       "      <td>.</td>\n",
       "      <td>1053</td>\n",
       "      <td>0</td>\n",
       "    </tr>\n",
       "    <tr>\n",
       "      <td>3</td>\n",
       "      <td>H3834</td>\n",
       "      <td>2013</td>\n",
       "      <td>1.0</td>\n",
       "      <td>0</td>\n",
       "      <td>1</td>\n",
       "      <td>1</td>\n",
       "      <td>1</td>\n",
       "      <td>1</td>\n",
       "      <td>2840.0</td>\n",
       "      <td>1</td>\n",
       "      <td>1960.0</td>\n",
       "      <td>.</td>\n",
       "      <td>1053</td>\n",
       "      <td>0</td>\n",
       "    </tr>\n",
       "    <tr>\n",
       "      <td>4</td>\n",
       "      <td>H5053</td>\n",
       "      <td>2014</td>\n",
       "      <td>1.0</td>\n",
       "      <td>0</td>\n",
       "      <td>1</td>\n",
       "      <td>0</td>\n",
       "      <td>0</td>\n",
       "      <td>0</td>\n",
       "      <td>680.0</td>\n",
       "      <td>1</td>\n",
       "      <td>1800.0</td>\n",
       "      <td>3</td>\n",
       "      <td>1053</td>\n",
       "      <td>0</td>\n",
       "    </tr>\n",
       "  </tbody>\n",
       "</table>\n",
       "</div>"
      ],
      "text/plain": [
       "  Customer Id  YearOfObservation  Insured_Period  Residential  \\\n",
       "0      H14663               2013             1.0            0   \n",
       "1       H2037               2015             1.0            0   \n",
       "2       H3802               2014             1.0            0   \n",
       "3       H3834               2013             1.0            0   \n",
       "4       H5053               2014             1.0            0   \n",
       "\n",
       "   Building_Painted  Building_Fenced  Garden  Settlement  Building Dimension  \\\n",
       "0                 0                1       1           1               290.0   \n",
       "1                 1                0       0           0               490.0   \n",
       "2                 0                1       1           1               595.0   \n",
       "3                 1                1       1           1              2840.0   \n",
       "4                 1                0       0           0               680.0   \n",
       "\n",
       "   Building_Type  Date_of_Occupancy NumberOfWindows Geo_Code  Claim  \n",
       "0              1             1960.0               .     1053      0  \n",
       "1              1             1850.0               4     1053      0  \n",
       "2              1             1960.0               .     1053      0  \n",
       "3              1             1960.0               .     1053      0  \n",
       "4              1             1800.0               3     1053      0  "
      ]
     },
     "execution_count": 10,
     "metadata": {},
     "output_type": "execute_result"
    }
   ],
   "source": [
    "# Encoding text values to numeric for train dataset\n",
    "from sklearn.preprocessing import LabelEncoder\n",
    "number=LabelEncoder() #create instance for labelencoder\n",
    "train['Building_Painted']=number.fit_transform(train['Building_Painted'].astype('str')) #0 means painted,1 means not painted\n",
    "train['Building_Fenced']=number.fit_transform(train['Building_Fenced'].astype('str')) #0 means fenced,1 means not fenced\n",
    "train['Garden']=number.fit_transform(train['Garden'].astype('str'))#0 means has no garden,1 means has garden\n",
    "train['Settlement']=number.fit_transform(train['Settlement'].astype('str'))# 0 means Rural area,1 means urban area\n",
    "train.head()"
   ]
  },
  {
   "cell_type": "code",
   "execution_count": 11,
   "metadata": {},
   "outputs": [
    {
     "data": {
      "text/html": [
       "<div>\n",
       "<style scoped>\n",
       "    .dataframe tbody tr th:only-of-type {\n",
       "        vertical-align: middle;\n",
       "    }\n",
       "\n",
       "    .dataframe tbody tr th {\n",
       "        vertical-align: top;\n",
       "    }\n",
       "\n",
       "    .dataframe thead th {\n",
       "        text-align: right;\n",
       "    }\n",
       "</style>\n",
       "<table border=\"1\" class=\"dataframe\">\n",
       "  <thead>\n",
       "    <tr style=\"text-align: right;\">\n",
       "      <th></th>\n",
       "      <th>Customer Id</th>\n",
       "      <th>YearOfObservation</th>\n",
       "      <th>Insured_Period</th>\n",
       "      <th>Residential</th>\n",
       "      <th>Building_Painted</th>\n",
       "      <th>Building_Fenced</th>\n",
       "      <th>Garden</th>\n",
       "      <th>Settlement</th>\n",
       "      <th>Building Dimension</th>\n",
       "      <th>Building_Type</th>\n",
       "      <th>Date_of_Occupancy</th>\n",
       "    </tr>\n",
       "  </thead>\n",
       "  <tbody>\n",
       "    <tr>\n",
       "      <td>0</td>\n",
       "      <td>H11920</td>\n",
       "      <td>2013</td>\n",
       "      <td>1.000000</td>\n",
       "      <td>0</td>\n",
       "      <td>1</td>\n",
       "      <td>0</td>\n",
       "      <td>0</td>\n",
       "      <td>0</td>\n",
       "      <td>300.0</td>\n",
       "      <td>1</td>\n",
       "      <td>1960.0</td>\n",
       "    </tr>\n",
       "    <tr>\n",
       "      <td>1</td>\n",
       "      <td>H11921</td>\n",
       "      <td>2016</td>\n",
       "      <td>0.997268</td>\n",
       "      <td>0</td>\n",
       "      <td>1</td>\n",
       "      <td>0</td>\n",
       "      <td>0</td>\n",
       "      <td>0</td>\n",
       "      <td>300.0</td>\n",
       "      <td>1</td>\n",
       "      <td>1960.0</td>\n",
       "    </tr>\n",
       "    <tr>\n",
       "      <td>2</td>\n",
       "      <td>H9805</td>\n",
       "      <td>2013</td>\n",
       "      <td>0.369863</td>\n",
       "      <td>0</td>\n",
       "      <td>1</td>\n",
       "      <td>1</td>\n",
       "      <td>1</td>\n",
       "      <td>1</td>\n",
       "      <td>790.0</td>\n",
       "      <td>1</td>\n",
       "      <td>1960.0</td>\n",
       "    </tr>\n",
       "    <tr>\n",
       "      <td>3</td>\n",
       "      <td>H7493</td>\n",
       "      <td>2014</td>\n",
       "      <td>1.000000</td>\n",
       "      <td>0</td>\n",
       "      <td>1</td>\n",
       "      <td>0</td>\n",
       "      <td>0</td>\n",
       "      <td>0</td>\n",
       "      <td>1405.0</td>\n",
       "      <td>1</td>\n",
       "      <td>2004.0</td>\n",
       "    </tr>\n",
       "    <tr>\n",
       "      <td>4</td>\n",
       "      <td>H7494</td>\n",
       "      <td>2016</td>\n",
       "      <td>1.000000</td>\n",
       "      <td>0</td>\n",
       "      <td>1</td>\n",
       "      <td>0</td>\n",
       "      <td>0</td>\n",
       "      <td>0</td>\n",
       "      <td>1405.0</td>\n",
       "      <td>1</td>\n",
       "      <td>2004.0</td>\n",
       "    </tr>\n",
       "  </tbody>\n",
       "</table>\n",
       "</div>"
      ],
      "text/plain": [
       "  Customer Id  YearOfObservation  Insured_Period  Residential  \\\n",
       "0      H11920               2013        1.000000            0   \n",
       "1      H11921               2016        0.997268            0   \n",
       "2       H9805               2013        0.369863            0   \n",
       "3       H7493               2014        1.000000            0   \n",
       "4       H7494               2016        1.000000            0   \n",
       "\n",
       "   Building_Painted  Building_Fenced  Garden  Settlement  Building Dimension  \\\n",
       "0                 1                0       0           0               300.0   \n",
       "1                 1                0       0           0               300.0   \n",
       "2                 1                1       1           1               790.0   \n",
       "3                 1                0       0           0              1405.0   \n",
       "4                 1                0       0           0              1405.0   \n",
       "\n",
       "   Building_Type  Date_of_Occupancy  \n",
       "0              1             1960.0  \n",
       "1              1             1960.0  \n",
       "2              1             1960.0  \n",
       "3              1             2004.0  \n",
       "4              1             2004.0  "
      ]
     },
     "execution_count": 11,
     "metadata": {},
     "output_type": "execute_result"
    }
   ],
   "source": [
    "# Encoding text values to numeric for test dataset\n",
    "number=LabelEncoder() #create instance for labelencoder\n",
    "test['Building_Painted']=number.fit_transform(test['Building_Painted'].astype('str')) #0 means painted,1 means not painted\n",
    "test['Building_Fenced']=number.fit_transform(test['Building_Fenced'].astype('str')) #0 means fenced,1 means not fenced\n",
    "test['Garden']=number.fit_transform(test['Garden'].astype('str'))#0 means has no garden,1 means has garden\n",
    "test['Settlement']=number.fit_transform(test['Settlement'].astype('str'))# 0 means Rural area,1 means urban area\n",
    "test.drop(['Geo_Code','NumberOfWindows'], axis=1, inplace=True)\n",
    "test.head()"
   ]
  },
  {
   "cell_type": "markdown",
   "metadata": {},
   "source": [
    "# The explanation for the encoded variables\n",
    "Building_Painted- 0 means painted,1 means not paint  \n",
    "Building_Fenced-0 means fenced,1 means not fenced  \n",
    "Garden-0 means has no garden,1 means has garden  \n",
    "Settlement-0 means Rural area,1 means urban area  "
   ]
  },
  {
   "cell_type": "code",
   "execution_count": 12,
   "metadata": {},
   "outputs": [
    {
     "data": {
      "text/plain": [
       "Customer Id            object\n",
       "YearOfObservation       int64\n",
       "Insured_Period        float64\n",
       "Residential             int64\n",
       "Building_Painted        int32\n",
       "Building_Fenced         int32\n",
       "Garden                  int32\n",
       "Settlement              int32\n",
       "Building Dimension    float64\n",
       "Building_Type           int64\n",
       "Date_of_Occupancy     float64\n",
       "NumberOfWindows        object\n",
       "Geo_Code               object\n",
       "Claim                   int64\n",
       "dtype: object"
      ]
     },
     "execution_count": 12,
     "metadata": {},
     "output_type": "execute_result"
    }
   ],
   "source": [
    "train.dtypes"
   ]
  },
  {
   "cell_type": "code",
   "execution_count": 13,
   "metadata": {},
   "outputs": [
    {
     "name": "stdout",
     "output_type": "stream",
     "text": [
      "Garden               -0.049704\n",
      "Settlement           -0.049704\n",
      "Building_Fenced      -0.049142\n",
      "YearOfObservation    -0.017600\n",
      "Date_of_Occupancy     0.018604\n",
      "Building_Painted      0.036131\n",
      "Residential           0.066630\n",
      "Insured_Period        0.101631\n",
      "Building_Type         0.114202\n",
      "Building Dimension    0.298525\n",
      "Claim                 1.000000\n",
      "Name: Claim, dtype: float64\n"
     ]
    }
   ],
   "source": [
    "correlations = train.corr()['Claim'].sort_values()\n",
    "print(correlations)"
   ]
  },
  {
   "cell_type": "code",
   "execution_count": 14,
   "metadata": {},
   "outputs": [
    {
     "data": {
      "text/html": [
       "<div>\n",
       "<style scoped>\n",
       "    .dataframe tbody tr th:only-of-type {\n",
       "        vertical-align: middle;\n",
       "    }\n",
       "\n",
       "    .dataframe tbody tr th {\n",
       "        vertical-align: top;\n",
       "    }\n",
       "\n",
       "    .dataframe thead th {\n",
       "        text-align: right;\n",
       "    }\n",
       "</style>\n",
       "<table border=\"1\" class=\"dataframe\">\n",
       "  <thead>\n",
       "    <tr style=\"text-align: right;\">\n",
       "      <th></th>\n",
       "      <th>YearOfObservation</th>\n",
       "      <th>Insured_Period</th>\n",
       "      <th>Residential</th>\n",
       "      <th>Building_Painted</th>\n",
       "      <th>Building_Fenced</th>\n",
       "      <th>Garden</th>\n",
       "      <th>Settlement</th>\n",
       "      <th>Building Dimension</th>\n",
       "      <th>Building_Type</th>\n",
       "      <th>Date_of_Occupancy</th>\n",
       "      <th>Claim</th>\n",
       "    </tr>\n",
       "  </thead>\n",
       "  <tbody>\n",
       "    <tr>\n",
       "      <td>0</td>\n",
       "      <td>2013</td>\n",
       "      <td>1.0</td>\n",
       "      <td>0</td>\n",
       "      <td>0</td>\n",
       "      <td>1</td>\n",
       "      <td>1</td>\n",
       "      <td>1</td>\n",
       "      <td>290.0</td>\n",
       "      <td>1</td>\n",
       "      <td>1960.0</td>\n",
       "      <td>0</td>\n",
       "    </tr>\n",
       "    <tr>\n",
       "      <td>1</td>\n",
       "      <td>2015</td>\n",
       "      <td>1.0</td>\n",
       "      <td>0</td>\n",
       "      <td>1</td>\n",
       "      <td>0</td>\n",
       "      <td>0</td>\n",
       "      <td>0</td>\n",
       "      <td>490.0</td>\n",
       "      <td>1</td>\n",
       "      <td>1850.0</td>\n",
       "      <td>0</td>\n",
       "    </tr>\n",
       "    <tr>\n",
       "      <td>2</td>\n",
       "      <td>2014</td>\n",
       "      <td>1.0</td>\n",
       "      <td>0</td>\n",
       "      <td>0</td>\n",
       "      <td>1</td>\n",
       "      <td>1</td>\n",
       "      <td>1</td>\n",
       "      <td>595.0</td>\n",
       "      <td>1</td>\n",
       "      <td>1960.0</td>\n",
       "      <td>0</td>\n",
       "    </tr>\n",
       "    <tr>\n",
       "      <td>3</td>\n",
       "      <td>2013</td>\n",
       "      <td>1.0</td>\n",
       "      <td>0</td>\n",
       "      <td>1</td>\n",
       "      <td>1</td>\n",
       "      <td>1</td>\n",
       "      <td>1</td>\n",
       "      <td>2840.0</td>\n",
       "      <td>1</td>\n",
       "      <td>1960.0</td>\n",
       "      <td>0</td>\n",
       "    </tr>\n",
       "    <tr>\n",
       "      <td>4</td>\n",
       "      <td>2014</td>\n",
       "      <td>1.0</td>\n",
       "      <td>0</td>\n",
       "      <td>1</td>\n",
       "      <td>0</td>\n",
       "      <td>0</td>\n",
       "      <td>0</td>\n",
       "      <td>680.0</td>\n",
       "      <td>1</td>\n",
       "      <td>1800.0</td>\n",
       "      <td>0</td>\n",
       "    </tr>\n",
       "  </tbody>\n",
       "</table>\n",
       "</div>"
      ],
      "text/plain": [
       "   YearOfObservation  Insured_Period  Residential  Building_Painted  \\\n",
       "0               2013             1.0            0                 0   \n",
       "1               2015             1.0            0                 1   \n",
       "2               2014             1.0            0                 0   \n",
       "3               2013             1.0            0                 1   \n",
       "4               2014             1.0            0                 1   \n",
       "\n",
       "   Building_Fenced  Garden  Settlement  Building Dimension  Building_Type  \\\n",
       "0                1       1           1               290.0              1   \n",
       "1                0       0           0               490.0              1   \n",
       "2                1       1           1               595.0              1   \n",
       "3                1       1           1              2840.0              1   \n",
       "4                0       0           0               680.0              1   \n",
       "\n",
       "   Date_of_Occupancy  Claim  \n",
       "0             1960.0      0  \n",
       "1             1850.0      0  \n",
       "2             1960.0      0  \n",
       "3             1960.0      0  \n",
       "4             1800.0      0  "
      ]
     },
     "execution_count": 14,
     "metadata": {},
     "output_type": "execute_result"
    }
   ],
   "source": [
    "train.drop(['Customer Id','Geo_Code','NumberOfWindows'], axis=1, inplace=True)\n",
    "train.head()"
   ]
  },
  {
   "cell_type": "markdown",
   "metadata": {},
   "source": [
    "## DATA VISUALIZATION"
   ]
  },
  {
   "cell_type": "code",
   "execution_count": 15,
   "metadata": {},
   "outputs": [
    {
     "data": {
      "text/plain": [
       "array([[<matplotlib.axes._subplots.AxesSubplot object at 0x000002269158F788>,\n",
       "        <matplotlib.axes._subplots.AxesSubplot object at 0x00000226915E97C8>,\n",
       "        <matplotlib.axes._subplots.AxesSubplot object at 0x0000022691620DC8>],\n",
       "       [<matplotlib.axes._subplots.AxesSubplot object at 0x0000022691658F08>,\n",
       "        <matplotlib.axes._subplots.AxesSubplot object at 0x0000022691695048>,\n",
       "        <matplotlib.axes._subplots.AxesSubplot object at 0x00000226916CD188>],\n",
       "       [<matplotlib.axes._subplots.AxesSubplot object at 0x00000226917052C8>,\n",
       "        <matplotlib.axes._subplots.AxesSubplot object at 0x000002269173E3C8>,\n",
       "        <matplotlib.axes._subplots.AxesSubplot object at 0x0000022691742EC8>],\n",
       "       [<matplotlib.axes._subplots.AxesSubplot object at 0x00000226917840C8>,\n",
       "        <matplotlib.axes._subplots.AxesSubplot object at 0x00000226917EBE48>,\n",
       "        <matplotlib.axes._subplots.AxesSubplot object at 0x000002269181F748>]],\n",
       "      dtype=object)"
      ]
     },
     "execution_count": 15,
     "metadata": {},
     "output_type": "execute_result"
    },
    {
     "data": {
      "image/png": "[encoded data removed]",
      "text/plain": [
       "<Figure size 1440x1440 with 12 Axes>"
      ]
     },
     "metadata": {
      "needs_background": "light"
     },
     "output_type": "display_data"
    }
   ],
   "source": [
    "train.hist(figsize=(20,20), color=\"steelblue\")"
   ]
  },
  {
   "cell_type": "markdown",
   "metadata": {},
   "source": [
    "Clear visualization of the sizes of each variable"
   ]
  },
  {
   "cell_type": "code",
   "execution_count": 17,
   "metadata": {},
   "outputs": [
    {
     "data": {
      "image/png": "[encoded data removed]",
      "text/plain": [
       "<Figure size 720x864 with 7 Axes>"
      ]
     },
     "metadata": {
      "needs_background": "light"
     },
     "output_type": "display_data"
    }
   ],
   "source": [
    "import seaborn as sns\n",
    "features=['YearOfObservation','Residential','Settlement', 'Building_Painted','Building_Fenced','Garden','Building_Type',]\n",
    "fig=plt.subplots(figsize=(10,12))\n",
    "for i, j in enumerate(features):\n",
    "    plt.subplot(4, 2, i+1)\n",
    "    plt.subplots_adjust(hspace = 1.0)\n",
    "    sns.countplot(x=j,data = train, hue='Claim')\n",
    "    plt.xticks(rotation=90)\n",
    "    plt.title(\"Number of claimed and non claimed\")\n"
   ]
  },
  {
   "cell_type": "markdown",
   "metadata": {},
   "source": [
    "From the plot there are more number building that doesn’t have a claim over the insured period,from all the variables"
   ]
  },
  {
   "cell_type": "markdown",
   "metadata": {},
   "source": [
    "## MODEL EVALUATION"
   ]
  },
  {
   "cell_type": "code",
   "execution_count": 18,
   "metadata": {},
   "outputs": [
    {
     "data": {
      "text/plain": [
       "((4580, 10), (1963, 10), (4580,), (1963,))"
      ]
     },
     "execution_count": 18,
     "metadata": {},
     "output_type": "execute_result"
    }
   ],
   "source": [
    "from sklearn.model_selection import train_test_split  \n",
    "X = train.drop(\"Claim\",axis=1)\n",
    "Y = train[\"Claim\"]\n",
    "X_train,X_test,Y_train,Y_test = train_test_split(X,Y,test_size=0.3,random_state=42)\n",
    "X_train.shape,X_test.shape,Y_train.shape,Y_test.shape"
   ]
  },
  {
   "cell_type": "code",
   "execution_count": 20,
   "metadata": {},
   "outputs": [
    {
     "name": "stderr",
     "output_type": "stream",
     "text": [
      "C:\\Users\\User\\AppData\\Local\\Continuum\\anaconda3\\lib\\site-packages\\sklearn\\ensemble\\forest.py:245: FutureWarning: The default value of n_estimators will change from 10 in version 0.20 to 100 in 0.22.\n",
      "  \"10 in version 0.20 to 100 in 0.22.\", FutureWarning)\n"
     ]
    },
    {
     "name": "stdout",
     "output_type": "stream",
     "text": [
      "[0.09469969 0.07734362 0.01564491 0.01041025 0.00256474 0.00187152\n",
      " 0.00190462 0.55665203 0.04759846 0.19131018]\n"
     ]
    },
    {
     "data": {
      "image/png": "[encoded data removed]",
      "text/plain": [
       "<Figure size 432x288 with 1 Axes>"
      ]
     },
     "metadata": {
      "needs_background": "light"
     },
     "output_type": "display_data"
    }
   ],
   "source": [
    "#plot graph of feature importances for better visualization\n",
    "from sklearn.ensemble import ExtraTreesClassifier\n",
    "importantfeat = ExtraTreesClassifier()\n",
    "importantfeat.fit(X,Y)\n",
    "print(importantfeat.feature_importances_)\n",
    "feat_importances = pd.Series(importantfeat.feature_importances_, index=X.columns)\n",
    "feat_importances.nlargest(5).plot(kind='barh')\n",
    "plt.show()\n"
   ]
  },
  {
   "cell_type": "code",
   "execution_count": 21,
   "metadata": {},
   "outputs": [
    {
     "name": "stdout",
     "output_type": "stream",
     "text": [
      "[0 0 0 ... 0 0 1]\n",
      "              precision    recall  f1-score   support\n",
      "\n",
      "           0       0.80      0.91      0.85      1496\n",
      "           1       0.46      0.26      0.33       467\n",
      "\n",
      "    accuracy                           0.75      1963\n",
      "   macro avg       0.63      0.58      0.59      1963\n",
      "weighted avg       0.72      0.75      0.72      1963\n",
      "\n",
      "0.7508914926133469\n"
     ]
    }
   ],
   "source": [
    "#RandomForestClassifier\n",
    "from sklearn.ensemble import RandomForestClassifier\n",
    "from sklearn.metrics import classification_report, accuracy_score\n",
    "classifier = RandomForestClassifier(n_estimators=200, random_state=0)  \n",
    "classifier.fit(X_train, Y_train)  \n",
    "predictions = classifier.predict(X_test)\n",
    "print(predictions)\n",
    "print(classification_report(Y_test,predictions ))  \n",
    "print(accuracy_score(Y_test, predictions ))"
   ]
  },
  {
   "cell_type": "code",
   "execution_count": 22,
   "metadata": {},
   "outputs": [
    {
     "name": "stdout",
     "output_type": "stream",
     "text": [
      "0.6592576635481914\n"
     ]
    }
   ],
   "source": [
    "from sklearn.metrics import roc_curve #for Random Forest Classifier\n",
    "from sklearn.metrics import roc_auc_score\n",
    "pred_prob1 = classifier.predict_proba(X_test)\n",
    "fpr1, tpr1, thresh1 = roc_curve(Y_test, pred_prob1[:,1], pos_label=1)\n",
    "random_probs = [0 for i in range(len(Y_test))]\n",
    "p_fpr, p_tpr, _ = roc_curve(Y_test, random_probs, pos_label=1)\n",
    "auc_score1 = roc_auc_score(Y_test, pred_prob1[:,1])\n",
    "print(auc_score1)"
   ]
  },
  {
   "cell_type": "code",
   "execution_count": 23,
   "metadata": {},
   "outputs": [
    {
     "name": "stderr",
     "output_type": "stream",
     "text": [
      "C:\\Users\\User\\AppData\\Local\\Continuum\\anaconda3\\lib\\site-packages\\sklearn\\linear_model\\logistic.py:432: FutureWarning: Default solver will be changed to 'lbfgs' in 0.22. Specify a solver to silence this warning.\n",
      "  FutureWarning)\n"
     ]
    },
    {
     "name": "stdout",
     "output_type": "stream",
     "text": [
      "[0 0 0 ... 0 0 0]\n",
      "              precision    recall  f1-score   support\n",
      "\n",
      "           0       0.78      0.98      0.87      1496\n",
      "           1       0.67      0.12      0.20       467\n",
      "\n",
      "    accuracy                           0.78      1963\n",
      "   macro avg       0.72      0.55      0.54      1963\n",
      "weighted avg       0.75      0.78      0.71      1963\n",
      "\n",
      "0.7763627101375445\n"
     ]
    }
   ],
   "source": [
    "# Logistic Regression\n",
    "from sklearn.linear_model import LogisticRegression \n",
    "model = LogisticRegression()\n",
    "model.fit(X_train,Y_train)\n",
    "predictions2=model.predict(X_test)\n",
    "print(predictions2)\n",
    "print(classification_report(Y_test,predictions2 ))  \n",
    "print(accuracy_score(Y_test, predictions2 ))"
   ]
  },
  {
   "cell_type": "code",
   "execution_count": 24,
   "metadata": {},
   "outputs": [
    {
     "name": "stdout",
     "output_type": "stream",
     "text": [
      "0.6999378785970296\n"
     ]
    }
   ],
   "source": [
    "pred_prob2 = model.predict_proba(X_test)#ROC_AUC for Logistic Regression\n",
    "fpr2, tpr2, thresh2 = roc_curve(Y_test, pred_prob2[:,1], pos_label=1)\n",
    "random_probs = [0 for i in range(len(Y_test))]\n",
    "p_fpr, p_tpr, _ = roc_curve(Y_test, random_probs, pos_label=1)\n",
    "auc_score2 = roc_auc_score(Y_test, pred_prob2[:,1])\n",
    "print(auc_score2)"
   ]
  },
  {
   "cell_type": "code",
   "execution_count": 25,
   "metadata": {},
   "outputs": [
    {
     "name": "stdout",
     "output_type": "stream",
     "text": [
      "              precision    recall  f1-score   support\n",
      "\n",
      "           0       0.78      0.95      0.85      1496\n",
      "           1       0.44      0.13      0.20       467\n",
      "\n",
      "    accuracy                           0.75      1963\n",
      "   macro avg       0.61      0.54      0.53      1963\n",
      "weighted avg       0.70      0.75      0.70      1963\n",
      "\n",
      "0.7539480387162506\n"
     ]
    }
   ],
   "source": [
    "#KNeighborsClassifier\n",
    "from sklearn.neighbors import KNeighborsClassifier\n",
    "model2 = KNeighborsClassifier(n_neighbors = 4)\n",
    "model2.fit(X_train,Y_train)\n",
    "prediction3=model2.predict(X_test)\n",
    "print(classification_report(Y_test,prediction3 ))  \n",
    "print(accuracy_score(Y_test, prediction3 ))"
   ]
  },
  {
   "cell_type": "code",
   "execution_count": 26,
   "metadata": {},
   "outputs": [
    {
     "name": "stdout",
     "output_type": "stream",
     "text": [
      "0.603601753140423\n"
     ]
    }
   ],
   "source": [
    "pred_prob3 = model2.predict_proba(X_test)#ROC_AUC for KNeighborsClassifier\n",
    "fpr3, tpr3, thresh3 = roc_curve(Y_test, pred_prob3[:,1], pos_label=1)\n",
    "random_probs = [0 for i in range(len(Y_test))]\n",
    "p_fpr, p_tpr, _ = roc_curve(Y_test, random_probs, pos_label=1)\n",
    "auc_score3 = roc_auc_score(Y_test, pred_prob3[:,1])\n",
    "print(auc_score3)"
   ]
  },
  {
   "cell_type": "code",
   "execution_count": 27,
   "metadata": {},
   "outputs": [
    {
     "name": "stdout",
     "output_type": "stream",
     "text": [
      "[0 0 0 ... 0 0 0]\n",
      "              precision    recall  f1-score   support\n",
      "\n",
      "           0       0.80      0.93      0.86      1496\n",
      "           1       0.56      0.27      0.36       467\n",
      "\n",
      "    accuracy                           0.78      1963\n",
      "   macro avg       0.68      0.60      0.61      1963\n",
      "weighted avg       0.74      0.78      0.74      1963\n",
      "\n",
      "0.7753438614365766\n"
     ]
    }
   ],
   "source": [
    "#Gaussian Naive Bayes Classifier\n",
    "from sklearn.naive_bayes import GaussianNB\n",
    "model3= GaussianNB()\n",
    "model3.fit(X_train,Y_train)\n",
    "prediction4=model3.predict(X_test)\n",
    "print(prediction4)\n",
    "print(classification_report(Y_test,prediction4 ))  \n",
    "print(accuracy_score(Y_test, prediction4))"
   ]
  },
  {
   "cell_type": "code",
   "execution_count": 28,
   "metadata": {},
   "outputs": [
    {
     "name": "stdout",
     "output_type": "stream",
     "text": [
      "[0 0 0 ... 0 0 1]\n",
      "              precision    recall  f1-score   support\n",
      "\n",
      "           0       0.79      0.87      0.83      1496\n",
      "           1       0.38      0.25      0.30       467\n",
      "\n",
      "    accuracy                           0.72      1963\n",
      "   macro avg       0.58      0.56      0.57      1963\n",
      "weighted avg       0.69      0.72      0.70      1963\n",
      "\n",
      "0.7228731533367295\n"
     ]
    }
   ],
   "source": [
    "#DecisionTree Classifier\n",
    "from sklearn.tree import DecisionTreeClassifier\n",
    "model5= DecisionTreeClassifier(criterion='gini', \n",
    "                             min_samples_split=10,min_samples_leaf=1,\n",
    "                             max_features='auto')\n",
    "model5.fit(X_train,Y_train)\n",
    "prediction5=model5.predict(X_test)\n",
    "print(prediction5)\n",
    "print(classification_report(Y_test,prediction5 ))  \n",
    "print(accuracy_score(Y_test, prediction5))"
   ]
  },
  {
   "cell_type": "code",
   "execution_count": 29,
   "metadata": {},
   "outputs": [
    {
     "name": "stderr",
     "output_type": "stream",
     "text": [
      "C:\\Users\\User\\AppData\\Local\\Continuum\\anaconda3\\lib\\site-packages\\sklearn\\svm\\base.py:193: FutureWarning: The default value of gamma will change from 'auto' to 'scale' in version 0.22 to account better for unscaled features. Set gamma explicitly to 'auto' or 'scale' to avoid this warning.\n",
      "  \"avoid this warning.\", FutureWarning)\n"
     ]
    },
    {
     "name": "stdout",
     "output_type": "stream",
     "text": [
      "[0 0 0 ... 0 0 1]\n",
      "              precision    recall  f1-score   support\n",
      "\n",
      "           0       0.77      0.97      0.86      1496\n",
      "           1       0.39      0.05      0.09       467\n",
      "\n",
      "    accuracy                           0.75      1963\n",
      "   macro avg       0.58      0.51      0.47      1963\n",
      "weighted avg       0.68      0.75      0.68      1963\n",
      "\n",
      "0.7549668874172185\n"
     ]
    }
   ],
   "source": [
    "from sklearn.svm import SVC, LinearSVC\n",
    "model6 = SVC()\n",
    "model6.fit(X_train,Y_train)\n",
    "prediction6=model6.predict(X_test)\n",
    "print(prediction6)\n",
    "print(classification_report(Y_test,prediction6 ))  \n",
    "print(accuracy_score(Y_test, prediction6))"
   ]
  },
  {
   "cell_type": "markdown",
   "metadata": {},
   "source": [
    "Evaluating with some models,we have Logistic Regression as the best since it has the best accuracy,Hence the best model for predicting with the test dataset."
   ]
  },
  {
   "cell_type": "code",
   "execution_count": 30,
   "metadata": {},
   "outputs": [
    {
     "data": {
      "text/html": [
       "<div>\n",
       "<style scoped>\n",
       "    .dataframe tbody tr th:only-of-type {\n",
       "        vertical-align: middle;\n",
       "    }\n",
       "\n",
       "    .dataframe tbody tr th {\n",
       "        vertical-align: top;\n",
       "    }\n",
       "\n",
       "    .dataframe thead th {\n",
       "        text-align: right;\n",
       "    }\n",
       "</style>\n",
       "<table border=\"1\" class=\"dataframe\">\n",
       "  <thead>\n",
       "    <tr style=\"text-align: right;\">\n",
       "      <th></th>\n",
       "      <th>YearOfObservation</th>\n",
       "      <th>Insured_Period</th>\n",
       "      <th>Residential</th>\n",
       "      <th>Building_Painted</th>\n",
       "      <th>Building_Fenced</th>\n",
       "      <th>Garden</th>\n",
       "      <th>Settlement</th>\n",
       "      <th>Building Dimension</th>\n",
       "      <th>Building_Type</th>\n",
       "      <th>Date_of_Occupancy</th>\n",
       "    </tr>\n",
       "  </thead>\n",
       "  <tbody>\n",
       "    <tr>\n",
       "      <td>count</td>\n",
       "      <td>3069.000000</td>\n",
       "      <td>3069.000000</td>\n",
       "      <td>3069.000000</td>\n",
       "      <td>3069.000000</td>\n",
       "      <td>3069.000000</td>\n",
       "      <td>3069.000000</td>\n",
       "      <td>3069.000000</td>\n",
       "      <td>3056.000000</td>\n",
       "      <td>3069.000000</td>\n",
       "      <td>2341.000000</td>\n",
       "    </tr>\n",
       "    <tr>\n",
       "      <td>mean</td>\n",
       "      <td>2013.593679</td>\n",
       "      <td>0.922806</td>\n",
       "      <td>0.224177</td>\n",
       "      <td>0.548713</td>\n",
       "      <td>0.729879</td>\n",
       "      <td>0.732486</td>\n",
       "      <td>0.729879</td>\n",
       "      <td>1666.790576</td>\n",
       "      <td>2.359400</td>\n",
       "      <td>1966.781717</td>\n",
       "    </tr>\n",
       "    <tr>\n",
       "      <td>std</td>\n",
       "      <td>1.372138</td>\n",
       "      <td>0.219066</td>\n",
       "      <td>0.417107</td>\n",
       "      <td>0.497702</td>\n",
       "      <td>0.444094</td>\n",
       "      <td>0.445670</td>\n",
       "      <td>0.444094</td>\n",
       "      <td>2251.180599</td>\n",
       "      <td>0.998464</td>\n",
       "      <td>25.238702</td>\n",
       "    </tr>\n",
       "    <tr>\n",
       "      <td>min</td>\n",
       "      <td>2012.000000</td>\n",
       "      <td>0.000000</td>\n",
       "      <td>0.000000</td>\n",
       "      <td>0.000000</td>\n",
       "      <td>0.000000</td>\n",
       "      <td>0.000000</td>\n",
       "      <td>0.000000</td>\n",
       "      <td>1.000000</td>\n",
       "      <td>1.000000</td>\n",
       "      <td>1750.000000</td>\n",
       "    </tr>\n",
       "    <tr>\n",
       "      <td>25%</td>\n",
       "      <td>2012.000000</td>\n",
       "      <td>1.000000</td>\n",
       "      <td>0.000000</td>\n",
       "      <td>0.000000</td>\n",
       "      <td>0.000000</td>\n",
       "      <td>0.000000</td>\n",
       "      <td>0.000000</td>\n",
       "      <td>470.000000</td>\n",
       "      <td>2.000000</td>\n",
       "      <td>1960.000000</td>\n",
       "    </tr>\n",
       "    <tr>\n",
       "      <td>50%</td>\n",
       "      <td>2013.000000</td>\n",
       "      <td>1.000000</td>\n",
       "      <td>0.000000</td>\n",
       "      <td>1.000000</td>\n",
       "      <td>1.000000</td>\n",
       "      <td>1.000000</td>\n",
       "      <td>1.000000</td>\n",
       "      <td>900.000000</td>\n",
       "      <td>2.000000</td>\n",
       "      <td>1968.000000</td>\n",
       "    </tr>\n",
       "    <tr>\n",
       "      <td>75%</td>\n",
       "      <td>2015.000000</td>\n",
       "      <td>1.000000</td>\n",
       "      <td>0.000000</td>\n",
       "      <td>1.000000</td>\n",
       "      <td>1.000000</td>\n",
       "      <td>1.000000</td>\n",
       "      <td>1.000000</td>\n",
       "      <td>1957.000000</td>\n",
       "      <td>3.000000</td>\n",
       "      <td>1980.000000</td>\n",
       "    </tr>\n",
       "    <tr>\n",
       "      <td>max</td>\n",
       "      <td>2016.000000</td>\n",
       "      <td>1.000000</td>\n",
       "      <td>1.000000</td>\n",
       "      <td>1.000000</td>\n",
       "      <td>1.000000</td>\n",
       "      <td>2.000000</td>\n",
       "      <td>1.000000</td>\n",
       "      <td>30745.000000</td>\n",
       "      <td>4.000000</td>\n",
       "      <td>2012.000000</td>\n",
       "    </tr>\n",
       "  </tbody>\n",
       "</table>\n",
       "</div>"
      ],
      "text/plain": [
       "       YearOfObservation  Insured_Period  Residential  Building_Painted  \\\n",
       "count        3069.000000     3069.000000  3069.000000       3069.000000   \n",
       "mean         2013.593679        0.922806     0.224177          0.548713   \n",
       "std             1.372138        0.219066     0.417107          0.497702   \n",
       "min          2012.000000        0.000000     0.000000          0.000000   \n",
       "25%          2012.000000        1.000000     0.000000          0.000000   \n",
       "50%          2013.000000        1.000000     0.000000          1.000000   \n",
       "75%          2015.000000        1.000000     0.000000          1.000000   \n",
       "max          2016.000000        1.000000     1.000000          1.000000   \n",
       "\n",
       "       Building_Fenced       Garden   Settlement  Building Dimension  \\\n",
       "count      3069.000000  3069.000000  3069.000000         3056.000000   \n",
       "mean          0.729879     0.732486     0.729879         1666.790576   \n",
       "std           0.444094     0.445670     0.444094         2251.180599   \n",
       "min           0.000000     0.000000     0.000000            1.000000   \n",
       "25%           0.000000     0.000000     0.000000          470.000000   \n",
       "50%           1.000000     1.000000     1.000000          900.000000   \n",
       "75%           1.000000     1.000000     1.000000         1957.000000   \n",
       "max           1.000000     2.000000     1.000000        30745.000000   \n",
       "\n",
       "       Building_Type  Date_of_Occupancy  \n",
       "count    3069.000000        2341.000000  \n",
       "mean        2.359400        1966.781717  \n",
       "std         0.998464          25.238702  \n",
       "min         1.000000        1750.000000  \n",
       "25%         2.000000        1960.000000  \n",
       "50%         2.000000        1968.000000  \n",
       "75%         3.000000        1980.000000  \n",
       "max         4.000000        2012.000000  "
      ]
     },
     "execution_count": 30,
     "metadata": {},
     "output_type": "execute_result"
    }
   ],
   "source": [
    "test.describe()"
   ]
  },
  {
   "cell_type": "code",
   "execution_count": 31,
   "metadata": {},
   "outputs": [
    {
     "data": {
      "text/plain": [
       "((4580, 10), (4580,), (3069, 10))"
      ]
     },
     "execution_count": 31,
     "metadata": {},
     "output_type": "execute_result"
    }
   ],
   "source": [
    "X_test  = test.drop(\"Customer Id\", axis=1).copy()\n",
    "X_train.shape, Y_train.shape, X_test.shape"
   ]
  },
  {
   "cell_type": "code",
   "execution_count": 32,
   "metadata": {},
   "outputs": [],
   "source": [
    "X_test.fillna(0, inplace = True) #filled the NAN on test dataset with  zero"
   ]
  },
  {
   "cell_type": "code",
   "execution_count": 33,
   "metadata": {},
   "outputs": [
    {
     "name": "stdout",
     "output_type": "stream",
     "text": [
      "[0 0 0 ... 0 0 0]\n"
     ]
    },
    {
     "name": "stderr",
     "output_type": "stream",
     "text": [
      "C:\\Users\\User\\AppData\\Local\\Continuum\\anaconda3\\lib\\site-packages\\sklearn\\linear_model\\logistic.py:432: FutureWarning: Default solver will be changed to 'lbfgs' in 0.22. Specify a solver to silence this warning.\n",
      "  FutureWarning)\n"
     ]
    }
   ],
   "source": [
    "best_model = LogisticRegression()\n",
    "best_model.fit(X_train,Y_train)\n",
    "Final_prediction=model.predict(X_test)\n",
    "print(Final_prediction)"
   ]
  },
  {
   "cell_type": "code",
   "execution_count": 34,
   "metadata": {},
   "outputs": [
    {
     "data": {
      "text/plain": [
       "0       H11920\n",
       "1       H11921\n",
       "2        H9805\n",
       "3        H7493\n",
       "4        H7494\n",
       "         ...  \n",
       "3064    H11583\n",
       "3065    H11720\n",
       "3066    H11721\n",
       "3067    H12408\n",
       "3068     H9021\n",
       "Name: Customer Id, Length: 3069, dtype: object"
      ]
     },
     "execution_count": 34,
     "metadata": {},
     "output_type": "execute_result"
    }
   ],
   "source": [
    "test['Customer Id']"
   ]
  },
  {
   "cell_type": "code",
   "execution_count": 35,
   "metadata": {},
   "outputs": [
    {
     "data": {
      "text/html": [
       "<div>\n",
       "<style scoped>\n",
       "    .dataframe tbody tr th:only-of-type {\n",
       "        vertical-align: middle;\n",
       "    }\n",
       "\n",
       "    .dataframe tbody tr th {\n",
       "        vertical-align: top;\n",
       "    }\n",
       "\n",
       "    .dataframe thead th {\n",
       "        text-align: right;\n",
       "    }\n",
       "</style>\n",
       "<table border=\"1\" class=\"dataframe\">\n",
       "  <thead>\n",
       "    <tr style=\"text-align: right;\">\n",
       "      <th></th>\n",
       "      <th>Customer Id</th>\n",
       "      <th>Claim</th>\n",
       "    </tr>\n",
       "  </thead>\n",
       "  <tbody>\n",
       "    <tr>\n",
       "      <td>0</td>\n",
       "      <td>H11920</td>\n",
       "      <td>0</td>\n",
       "    </tr>\n",
       "    <tr>\n",
       "      <td>1</td>\n",
       "      <td>H11921</td>\n",
       "      <td>0</td>\n",
       "    </tr>\n",
       "    <tr>\n",
       "      <td>2</td>\n",
       "      <td>H9805</td>\n",
       "      <td>0</td>\n",
       "    </tr>\n",
       "    <tr>\n",
       "      <td>3</td>\n",
       "      <td>H7493</td>\n",
       "      <td>0</td>\n",
       "    </tr>\n",
       "    <tr>\n",
       "      <td>4</td>\n",
       "      <td>H7494</td>\n",
       "      <td>0</td>\n",
       "    </tr>\n",
       "    <tr>\n",
       "      <td>5</td>\n",
       "      <td>H10545</td>\n",
       "      <td>0</td>\n",
       "    </tr>\n",
       "    <tr>\n",
       "      <td>6</td>\n",
       "      <td>H8962</td>\n",
       "      <td>1</td>\n",
       "    </tr>\n",
       "    <tr>\n",
       "      <td>7</td>\n",
       "      <td>H1015</td>\n",
       "      <td>0</td>\n",
       "    </tr>\n",
       "    <tr>\n",
       "      <td>8</td>\n",
       "      <td>H9710</td>\n",
       "      <td>1</td>\n",
       "    </tr>\n",
       "    <tr>\n",
       "      <td>9</td>\n",
       "      <td>H9029</td>\n",
       "      <td>1</td>\n",
       "    </tr>\n",
       "  </tbody>\n",
       "</table>\n",
       "</div>"
      ],
      "text/plain": [
       "  Customer Id  Claim\n",
       "0      H11920      0\n",
       "1      H11921      0\n",
       "2       H9805      0\n",
       "3       H7493      0\n",
       "4       H7494      0\n",
       "5      H10545      0\n",
       "6       H8962      1\n",
       "7       H1015      0\n",
       "8       H9710      1\n",
       "9       H9029      1"
      ]
     },
     "execution_count": 35,
     "metadata": {},
     "output_type": "execute_result"
    }
   ],
   "source": [
    "submission = pd.DataFrame({\"Customer Id\": test['Customer Id'], \"Claim\": Final_prediction})\n",
    "submission.head(10)"
   ]
  },
  {
   "cell_type": "code",
   "execution_count": 36,
   "metadata": {},
   "outputs": [
    {
     "data": {
      "text/plain": [
       "0    2219\n",
       "1     850\n",
       "Name: Claim, dtype: int64"
      ]
     },
     "execution_count": 36,
     "metadata": {},
     "output_type": "execute_result"
    }
   ],
   "source": [
    "submission.Claim.value_counts()"
   ]
  },
  {
   "cell_type": "code",
   "execution_count": null,
   "metadata": {},
   "outputs": [],
   "source": [
    "submission.to_csv(\"Myfirstsubmission.csv\", index=False)"
   ]
  },
  {
   "cell_type": "code",
   "execution_count": null,
   "metadata": {},
   "outputs": [],
   "source": []
  }
 ],
 "metadata": {
  "kernelspec": {
   "display_name": "Python 3",
   "language": "python",
   "name": "python3"
  },
  "language_info": {
   "codemirror_mode": {
    "name": "ipython",
    "version": 3
   },
   "file_extension": ".py",
   "mimetype": "text/x-python",
   "name": "python",
   "nbconvert_exporter": "python",
   "pygments_lexer": "ipython3",
   "version": "3.7.4"
  }
 },
 "nbformat": 4,
 "nbformat_minor": 2
}
